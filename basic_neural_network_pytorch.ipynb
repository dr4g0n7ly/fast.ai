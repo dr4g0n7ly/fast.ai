{
  "nbformat": 4,
  "nbformat_minor": 0,
  "metadata": {
    "colab": {
      "provenance": []
    },
    "kernelspec": {
      "name": "python3",
      "display_name": "Python 3"
    },
    "language_info": {
      "name": "python"
    }
  },
  "cells": [
    {
      "cell_type": "code",
      "execution_count": 1,
      "metadata": {
        "id": "Vg8sSkzUvPCR"
      },
      "outputs": [],
      "source": [
        "import torch\n",
        "import torch.nn as nn\n",
        "import torch.optim as optim"
      ]
    },
    {
      "cell_type": "code",
      "source": [
        "net = nn.Linear(10,10)\n",
        "opt = optim.SGD(net.parameters(), lr=0.01)"
      ],
      "metadata": {
        "id": "8ULNAVf0vavq"
      },
      "execution_count": 3,
      "outputs": []
    },
    {
      "cell_type": "code",
      "source": [
        "inp = torch.randn(20, 10)\n",
        "tgt = torch.randn(20, 10)"
      ],
      "metadata": {
        "id": "DhL3wt_1vjO6"
      },
      "execution_count": 4,
      "outputs": []
    },
    {
      "cell_type": "code",
      "source": [
        "out = net(inp)\n",
        "lss = nn.MSELoss()(out, tgt)\n",
        "lss.backward()"
      ],
      "metadata": {
        "id": "bvJ5pIMXwmlr"
      },
      "execution_count": 7,
      "outputs": []
    },
    {
      "cell_type": "code",
      "source": [
        "opt.step()"
      ],
      "metadata": {
        "id": "V7WfBzgiwooY"
      },
      "execution_count": 9,
      "outputs": []
    },
    {
      "cell_type": "code",
      "source": [],
      "metadata": {
        "id": "Hnxs3lU-w6mb"
      },
      "execution_count": null,
      "outputs": []
    }
  ]
}